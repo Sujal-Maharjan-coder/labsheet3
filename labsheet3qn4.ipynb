{
  "nbformat": 4,
  "nbformat_minor": 0,
  "metadata": {
    "colab": {
      "provenance": [],
      "authorship_tag": "ABX9TyPg2bsdzGRq+/nzd7UaKqkO",
      "include_colab_link": true
    },
    "kernelspec": {
      "name": "python3",
      "display_name": "Python 3"
    },
    "language_info": {
      "name": "python"
    }
  },
  "cells": [
    {
      "cell_type": "markdown",
      "metadata": {
        "id": "view-in-github",
        "colab_type": "text"
      },
      "source": [
        "<a href=\"https://colab.research.google.com/github/Sujal-Maharjan-coder/labsheet3/blob/main/labsheet3qn4.ipynb\" target=\"_parent\"><img src=\"https://colab.research.google.com/assets/colab-badge.svg\" alt=\"Open In Colab\"/></a>"
      ]
    },
    {
      "cell_type": "code",
      "execution_count": 1,
      "metadata": {
        "colab": {
          "base_uri": "https://localhost:8080/"
        },
        "id": "WFiFSyDd-7MD",
        "outputId": "4c470aca-a223-4934-be32-69cdeb6d08e6"
      },
      "outputs": [
        {
          "output_type": "stream",
          "name": "stdout",
          "text": [
            "Heuristic Value: 6\n"
          ]
        }
      ],
      "source": [
        "def calculate_heuristic(board, player, opponent):\n",
        "    \"\"\"\n",
        "    Calculate the heuristic value for a given Tic-Tac-Toe board state.\n",
        "\n",
        "    :param board: 2D list representing the Tic-Tac-Toe board (3x3).\n",
        "    :param player: The player's symbol ('X' or 'O').\n",
        "    :param opponent: The opponent's symbol ('X' or 'O').\n",
        "    :return: Heuristic value.\n",
        "    \"\"\"\n",
        "    def is_open_line(line, symbol):\n",
        "        \"\"\"Check if a line (row, column, or diagonal) is open for the given symbol.\"\"\"\n",
        "        return all(cell == symbol or cell == '' for cell in line)\n",
        "\n",
        "    def count_open_lines(symbol):\n",
        "        \"\"\"Count the number of open lines for a given symbol.\"\"\"\n",
        "        open_lines = 0\n",
        "\n",
        "\n",
        "        for i in range(3):\n",
        "            if is_open_line([board[i][j] for j in range(3)], symbol):\n",
        "                open_lines += 1\n",
        "            if is_open_line([board[j][i] for j in range(3)], symbol):\n",
        "                open_lines += 1\n",
        "\n",
        "\n",
        "        if is_open_line([board[i][i] for i in range(3)], symbol):\n",
        "            open_lines += 1\n",
        "        if is_open_line([board[i][2 - i] for i in range(3)], symbol):\n",
        "            open_lines += 1\n",
        "\n",
        "        return open_lines\n",
        "\n",
        "    player_open_lines = count_open_lines(player)\n",
        "    opponent_open_lines = count_open_lines(opponent)\n",
        "\n",
        "    return player_open_lines - opponent_open_lines\n",
        "\n",
        "\n",
        "\n",
        "board = [\n",
        "    ['X', '', ''],\n",
        "    ['', 'X', ''],\n",
        "    ['', '', '']\n",
        "]\n",
        "player = 'X'\n",
        "opponent = 'O'\n",
        "\n",
        "heuristic_value = calculate_heuristic(board, player, opponent)\n",
        "print(f\"Heuristic Value: {heuristic_value}\")"
      ]
    }
  ]
}