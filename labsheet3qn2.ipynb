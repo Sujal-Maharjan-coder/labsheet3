{
  "nbformat": 4,
  "nbformat_minor": 0,
  "metadata": {
    "colab": {
      "provenance": [],
      "authorship_tag": "ABX9TyMrT9t0T94OqvayCR/Ga7gF",
      "include_colab_link": true
    },
    "kernelspec": {
      "name": "python3",
      "display_name": "Python 3"
    },
    "language_info": {
      "name": "python"
    }
  },
  "cells": [
    {
      "cell_type": "markdown",
      "metadata": {
        "id": "view-in-github",
        "colab_type": "text"
      },
      "source": [
        "<a href=\"https://colab.research.google.com/github/Sujal-Maharjan-coder/labsheet3/blob/main/labsheet3qn2.ipynb\" target=\"_parent\"><img src=\"https://colab.research.google.com/assets/colab-badge.svg\" alt=\"Open In Colab\"/></a>"
      ]
    },
    {
      "cell_type": "code",
      "execution_count": 1,
      "metadata": {
        "colab": {
          "base_uri": "https://localhost:8080/"
        },
        "id": "3s0Byv3Z9KYe",
        "outputId": "39568a6c-0ba7-41fd-e65c-f54f04b7c689"
      },
      "outputs": [
        {
          "output_type": "stream",
          "name": "stdout",
          "text": [
            "Running DFS...\n",
            "DFS Solution Path: ['A', 'C', 'F']\n",
            "\n",
            "Running BFS...\n",
            "BFS Solution Path: ['A', 'C', 'F']\n"
          ]
        }
      ],
      "source": [
        "from collections import deque\n",
        "\n",
        "class CityMap:\n",
        "    def __init__(self, graph, start, goal):\n",
        "        \"\"\"\n",
        "        Initialize the CityMap problem.\n",
        "        :param graph: Dictionary representing the city map as an adjacency list.\n",
        "        :param start: Starting city.\n",
        "        :param goal: Goal city.\n",
        "        \"\"\"\n",
        "        self.graph = graph\n",
        "        self.start = start\n",
        "        self.goal = goal\n",
        "\n",
        "    def goalTest(self, current_city):\n",
        "        \"\"\"\n",
        "        Check if the current city is the goal city.\n",
        "        :param current_city: The city being evaluated.\n",
        "        :return: True if current_city is the goal, otherwise False.\n",
        "        \"\"\"\n",
        "        return current_city == self.goal\n",
        "\n",
        "    def successors(self, city):\n",
        "        \"\"\"\n",
        "        Generate successors (neighboring cities) of the current city.\n",
        "        :param city: Current city.\n",
        "        :return: List of neighboring cities.\n",
        "        \"\"\"\n",
        "        return self.graph.get(city, [])\n",
        "\n",
        "    def generate_path(self, closed_list, final_city):\n",
        "        \"\"\"\n",
        "        Generate the solution path from the closed list.\n",
        "        :param closed_list: Dictionary with city as key and parent city as value.\n",
        "        :param final_city: The goal city.\n",
        "        :return: List of cities representing the path.\n",
        "        \"\"\"\n",
        "        path = []\n",
        "        current = final_city\n",
        "        while current is not None:\n",
        "            path.append(current)\n",
        "            current = closed_list.get(current)\n",
        "        path.reverse()\n",
        "        return path\n",
        "\n",
        "    def search(self, method=\"DFS\"):\n",
        "        \"\"\"\n",
        "        Perform search (DFS or BFS) to solve the problem.\n",
        "        :param method: \"DFS\" or \"BFS\"\n",
        "        :return: Solution path if found, otherwise None.\n",
        "        \"\"\"\n",
        "        frontier = [(self.start, None)]\n",
        "        closed_list = {}\n",
        "\n",
        "        while frontier:\n",
        "            if method == \"DFS\":\n",
        "                current_city, parent_city = frontier.pop()\n",
        "            elif method == \"BFS\":\n",
        "                current_city, parent_city = frontier.pop(0)\n",
        "\n",
        "            if current_city in closed_list:\n",
        "                continue\n",
        "\n",
        "            closed_list[current_city] = parent_city\n",
        "\n",
        "            if self.goalTest(current_city):\n",
        "                return self.generate_path(closed_list, current_city)\n",
        "\n",
        "            for neighbor in self.successors(current_city):\n",
        "                if neighbor not in closed_list:\n",
        "                    frontier.append((neighbor, current_city))\n",
        "\n",
        "        return None\n",
        "\n",
        "\n",
        "if __name__ == \"__main__\":\n",
        "\n",
        "    city_map = {\n",
        "        \"A\": [\"B\", \"C\"],\n",
        "        \"B\": [\"A\", \"D\", \"E\"],\n",
        "        \"C\": [\"A\", \"F\"],\n",
        "        \"D\": [\"B\"],\n",
        "        \"E\": [\"B\", \"F\"],\n",
        "        \"F\": [\"C\", \"E\"]\n",
        "    }\n",
        "\n",
        "\n",
        "    start_city = \"A\"\n",
        "    goal_city = \"F\"\n",
        "\n",
        "    map_problem = CityMap(city_map, start_city, goal_city)\n",
        "\n",
        "\n",
        "    print(\"Running DFS...\")\n",
        "    dfs_path = map_problem.search(method=\"DFS\")\n",
        "    print(\"DFS Solution Path:\", dfs_path)\n",
        "\n",
        "\n",
        "    print(\"\\nRunning BFS...\")\n",
        "    bfs_path = map_problem.search(method=\"BFS\")\n",
        "    print(\"BFS Solution Path:\", bfs_path)"
      ]
    }
  ]
}