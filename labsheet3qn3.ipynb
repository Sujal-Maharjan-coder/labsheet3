{
  "nbformat": 4,
  "nbformat_minor": 0,
  "metadata": {
    "colab": {
      "provenance": [],
      "authorship_tag": "ABX9TyMtRkn03tIyGuBDwl7OKnQY",
      "include_colab_link": true
    },
    "kernelspec": {
      "name": "python3",
      "display_name": "Python 3"
    },
    "language_info": {
      "name": "python"
    }
  },
  "cells": [
    {
      "cell_type": "markdown",
      "metadata": {
        "id": "view-in-github",
        "colab_type": "text"
      },
      "source": [
        "<a href=\"https://colab.research.google.com/github/Sujal-Maharjan-coder/labsheet3/blob/main/labsheet3qn3.ipynb\" target=\"_parent\"><img src=\"https://colab.research.google.com/assets/colab-badge.svg\" alt=\"Open In Colab\"/></a>"
      ]
    },
    {
      "cell_type": "code",
      "execution_count": 1,
      "metadata": {
        "colab": {
          "base_uri": "https://localhost:8080/"
        },
        "id": "xuwWHHmv-Vpo",
        "outputId": "19ae95c5-9814-4a6c-e2ce-aa1f18b668e5"
      },
      "outputs": [
        {
          "output_type": "stream",
          "name": "stdout",
          "text": [
            "Solution found!\n",
            "(('A', 'B'), ('C',), ())\n",
            "(('A',), ('C',), ('B',))\n",
            "(('A',), (), ('B', 'C'))\n",
            "((), ('A',), ('B', 'C'))\n",
            "((), ('A', 'C'), ('B',))\n",
            "(('B',), ('A', 'C'), ())\n"
          ]
        }
      ],
      "source": [
        "from collections import deque\n",
        "\n",
        "class BlockWorld:\n",
        "    def __init__(self, initial_state, goal_state):\n",
        "        \"\"\"\n",
        "        Initializes the Block World problem.\n",
        "        :param initial_state: Tuple of stacks representing the initial state.\n",
        "        :param goal_state: Tuple of stacks representing the goal state.\n",
        "        \"\"\"\n",
        "        self.initial_state = initial_state\n",
        "        self.goal_state = goal_state\n",
        "\n",
        "    def goal_test(self, state):\n",
        "        \"\"\"Check if the current state matches the goal state.\"\"\"\n",
        "        return state == self.goal_state\n",
        "\n",
        "    def successor(self, state):\n",
        "        \"\"\"\n",
        "        Generate all possible successor states by moving one block at a time.\n",
        "        :param state: Current state represented as a tuple of stacks.\n",
        "        :return: List of successor states.\n",
        "        \"\"\"\n",
        "        successors = []\n",
        "        n = len(state)\n",
        "\n",
        "\n",
        "        for i in range(n):\n",
        "            if state[i]:\n",
        "                new_state = [list(stack) for stack in state]\n",
        "                block = new_state[i].pop()\n",
        "\n",
        "                for j in range(n):\n",
        "                    if i != j:\n",
        "                        new_stack_state = [list(stack) for stack in new_state]\n",
        "                        new_stack_state[j].append(block)\n",
        "                        successors.append(tuple(tuple(stack) for stack in new_stack_state))\n",
        "\n",
        "        return successors\n",
        "\n",
        "    def bfs(self):\n",
        "        \"\"\"\n",
        "        Perform BFS to find the solution.\n",
        "        :return: List of states representing the solution path.\n",
        "        \"\"\"\n",
        "        open_list = deque()\n",
        "        closed_list = set()\n",
        "        parent_map = {}\n",
        "\n",
        "\n",
        "        initial_state = tuple(tuple(stack) for stack in self.initial_state)\n",
        "        open_list.append(initial_state)\n",
        "        closed_list.add(initial_state)\n",
        "        parent_map[initial_state] = None\n",
        "\n",
        "        while open_list:\n",
        "            current_state = open_list.popleft()\n",
        "\n",
        "\n",
        "            if self.goal_test(current_state):\n",
        "                return self.generate_path(parent_map, current_state)\n",
        "\n",
        "\n",
        "            for successor in self.successor(current_state):\n",
        "                if successor not in closed_list:\n",
        "                    open_list.append(successor)\n",
        "                    closed_list.add(successor)\n",
        "                    parent_map[successor] = current_state\n",
        "\n",
        "        return None\n",
        "\n",
        "    def generate_path(self, parent_map, current_state):\n",
        "        \"\"\"\n",
        "        Generate the solution path from the initial state to the goal state.\n",
        "        :param parent_map: Dictionary mapping states to their parents.\n",
        "        :param current_state: Current state (goal state).\n",
        "        :return: List of states representing the solution path.\n",
        "        \"\"\"\n",
        "        path = []\n",
        "        while current_state:\n",
        "            path.append(current_state)\n",
        "            current_state = parent_map[current_state]\n",
        "        path.reverse()\n",
        "        return path\n",
        "\n",
        "\n",
        "\n",
        "initial_state = (('A', 'B'), ('C',), ())\n",
        "goal_state = (('B',), ('A', 'C'), ())\n",
        "\n",
        "block_world = BlockWorld(initial_state, goal_state)\n",
        "solution_path = block_world.bfs()\n",
        "\n",
        "\n",
        "if solution_path:\n",
        "    print(\"Solution found!\")\n",
        "    for step in solution_path:\n",
        "        print(step)\n",
        "else:\n",
        "    print(\"No solution found.\")"
      ]
    }
  ]
}